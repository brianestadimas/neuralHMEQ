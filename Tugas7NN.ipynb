{
 "cells": [
  {
   "cell_type": "code",
   "execution_count": 4,
   "metadata": {},
   "outputs": [
    {
     "name": "stderr",
     "output_type": "stream",
     "text": [
      "Using TensorFlow backend.\n"
     ]
    }
   ],
   "source": [
    "from keras.models import Sequential\n",
    "from keras.layers import Dense\n",
    "from sklearn.model_selection import train_test_split\n",
    "import numpy as np\n",
    "import pandas as pd"
   ]
  },
  {
   "cell_type": "code",
   "execution_count": 5,
   "metadata": {},
   "outputs": [
    {
     "data": {
      "text/html": [
       "<div>\n",
       "<style scoped>\n",
       "    .dataframe tbody tr th:only-of-type {\n",
       "        vertical-align: middle;\n",
       "    }\n",
       "\n",
       "    .dataframe tbody tr th {\n",
       "        vertical-align: top;\n",
       "    }\n",
       "\n",
       "    .dataframe thead th {\n",
       "        text-align: right;\n",
       "    }\n",
       "</style>\n",
       "<table border=\"1\" class=\"dataframe\">\n",
       "  <thead>\n",
       "    <tr style=\"text-align: right;\">\n",
       "      <th></th>\n",
       "      <th>1</th>\n",
       "      <th>1700</th>\n",
       "      <th>30548</th>\n",
       "      <th>40320</th>\n",
       "      <th>HomeImp</th>\n",
       "      <th>Other</th>\n",
       "      <th>9</th>\n",
       "      <th>0</th>\n",
       "      <th>0.1</th>\n",
       "      <th>101.46600191</th>\n",
       "      <th>1.1</th>\n",
       "      <th>8</th>\n",
       "      <th>37.113613558</th>\n",
       "    </tr>\n",
       "  </thead>\n",
       "  <tbody>\n",
       "    <tr>\n",
       "      <th>0</th>\n",
       "      <td>1</td>\n",
       "      <td>1800</td>\n",
       "      <td>28502</td>\n",
       "      <td>43034</td>\n",
       "      <td>1</td>\n",
       "      <td>2</td>\n",
       "      <td>11</td>\n",
       "      <td>0</td>\n",
       "      <td>0</td>\n",
       "      <td>88.766</td>\n",
       "      <td>0</td>\n",
       "      <td>8</td>\n",
       "      <td>36.8849</td>\n",
       "    </tr>\n",
       "    <tr>\n",
       "      <th>1</th>\n",
       "      <td>0</td>\n",
       "      <td>2300</td>\n",
       "      <td>102370</td>\n",
       "      <td>120953</td>\n",
       "      <td>1</td>\n",
       "      <td>1</td>\n",
       "      <td>2</td>\n",
       "      <td>0</td>\n",
       "      <td>0</td>\n",
       "      <td>90.9925</td>\n",
       "      <td>0</td>\n",
       "      <td>13</td>\n",
       "      <td>31.5885</td>\n",
       "    </tr>\n",
       "    <tr>\n",
       "      <th>2</th>\n",
       "      <td>1</td>\n",
       "      <td>2400</td>\n",
       "      <td>34863</td>\n",
       "      <td>47471</td>\n",
       "      <td>1</td>\n",
       "      <td>0</td>\n",
       "      <td>12</td>\n",
       "      <td>0</td>\n",
       "      <td>0</td>\n",
       "      <td>70.4911</td>\n",
       "      <td>1</td>\n",
       "      <td>21</td>\n",
       "      <td>38.2636</td>\n",
       "    </tr>\n",
       "    <tr>\n",
       "      <th>3</th>\n",
       "      <td>0</td>\n",
       "      <td>2400</td>\n",
       "      <td>98449</td>\n",
       "      <td>117195</td>\n",
       "      <td>1</td>\n",
       "      <td>1</td>\n",
       "      <td>4</td>\n",
       "      <td>0</td>\n",
       "      <td>0</td>\n",
       "      <td>93.8118</td>\n",
       "      <td>0</td>\n",
       "      <td>13</td>\n",
       "      <td>29.6818</td>\n",
       "    </tr>\n",
       "    <tr>\n",
       "      <th>4</th>\n",
       "      <td>0</td>\n",
       "      <td>2900</td>\n",
       "      <td>103949</td>\n",
       "      <td>112505</td>\n",
       "      <td>1</td>\n",
       "      <td>1</td>\n",
       "      <td>1</td>\n",
       "      <td>0</td>\n",
       "      <td>0</td>\n",
       "      <td>96.1023</td>\n",
       "      <td>0</td>\n",
       "      <td>13</td>\n",
       "      <td>30.0511</td>\n",
       "    </tr>\n",
       "    <tr>\n",
       "      <th>...</th>\n",
       "      <td>...</td>\n",
       "      <td>...</td>\n",
       "      <td>...</td>\n",
       "      <td>...</td>\n",
       "      <td>...</td>\n",
       "      <td>...</td>\n",
       "      <td>...</td>\n",
       "      <td>...</td>\n",
       "      <td>...</td>\n",
       "      <td>...</td>\n",
       "      <td>...</td>\n",
       "      <td>...</td>\n",
       "      <td>...</td>\n",
       "    </tr>\n",
       "    <tr>\n",
       "      <th>3355</th>\n",
       "      <td>0</td>\n",
       "      <td>89000</td>\n",
       "      <td>54576</td>\n",
       "      <td>92937</td>\n",
       "      <td>0</td>\n",
       "      <td>2</td>\n",
       "      <td>16</td>\n",
       "      <td>0</td>\n",
       "      <td>0</td>\n",
       "      <td>208.692</td>\n",
       "      <td>0</td>\n",
       "      <td>15</td>\n",
       "      <td>35.86</td>\n",
       "    </tr>\n",
       "    <tr>\n",
       "      <th>3356</th>\n",
       "      <td>0</td>\n",
       "      <td>89200</td>\n",
       "      <td>54045</td>\n",
       "      <td>92924</td>\n",
       "      <td>0</td>\n",
       "      <td>2</td>\n",
       "      <td>15</td>\n",
       "      <td>0</td>\n",
       "      <td>0</td>\n",
       "      <td>212.28</td>\n",
       "      <td>0</td>\n",
       "      <td>15</td>\n",
       "      <td>35.5566</td>\n",
       "    </tr>\n",
       "    <tr>\n",
       "      <th>3357</th>\n",
       "      <td>0</td>\n",
       "      <td>89800</td>\n",
       "      <td>50370</td>\n",
       "      <td>91861</td>\n",
       "      <td>0</td>\n",
       "      <td>2</td>\n",
       "      <td>14</td>\n",
       "      <td>0</td>\n",
       "      <td>0</td>\n",
       "      <td>213.893</td>\n",
       "      <td>0</td>\n",
       "      <td>16</td>\n",
       "      <td>34.3409</td>\n",
       "    </tr>\n",
       "    <tr>\n",
       "      <th>3358</th>\n",
       "      <td>0</td>\n",
       "      <td>89900</td>\n",
       "      <td>48811</td>\n",
       "      <td>88934</td>\n",
       "      <td>0</td>\n",
       "      <td>2</td>\n",
       "      <td>15</td>\n",
       "      <td>0</td>\n",
       "      <td>0</td>\n",
       "      <td>219.601</td>\n",
       "      <td>0</td>\n",
       "      <td>16</td>\n",
       "      <td>34.5715</td>\n",
       "    </tr>\n",
       "    <tr>\n",
       "      <th>3359</th>\n",
       "      <td>0</td>\n",
       "      <td>23800</td>\n",
       "      <td>76390</td>\n",
       "      <td>110315</td>\n",
       "      <td>0</td>\n",
       "      <td>0</td>\n",
       "      <td>7</td>\n",
       "      <td>0</td>\n",
       "      <td>0</td>\n",
       "      <td>275.955</td>\n",
       "      <td>2</td>\n",
       "      <td>29</td>\n",
       "      <td>29.7136</td>\n",
       "    </tr>\n",
       "  </tbody>\n",
       "</table>\n",
       "<p>3360 rows × 13 columns</p>\n",
       "</div>"
      ],
      "text/plain": [
       "      1   1700   30548   40320 HomeImp Other   9  0 0.1 101.46600191 1.1   8  \\\n",
       "0     1   1800   28502   43034       1     2  11  0   0       88.766   0   8   \n",
       "1     0   2300  102370  120953       1     1   2  0   0      90.9925   0  13   \n",
       "2     1   2400   34863   47471       1     0  12  0   0      70.4911   1  21   \n",
       "3     0   2400   98449  117195       1     1   4  0   0      93.8118   0  13   \n",
       "4     0   2900  103949  112505       1     1   1  0   0      96.1023   0  13   \n",
       "...  ..    ...     ...     ...     ...   ...  .. ..  ..          ...  ..  ..   \n",
       "3355  0  89000   54576   92937       0     2  16  0   0      208.692   0  15   \n",
       "3356  0  89200   54045   92924       0     2  15  0   0       212.28   0  15   \n",
       "3357  0  89800   50370   91861       0     2  14  0   0      213.893   0  16   \n",
       "3358  0  89900   48811   88934       0     2  15  0   0      219.601   0  16   \n",
       "3359  0  23800   76390  110315       0     0   7  0   0      275.955   2  29   \n",
       "\n",
       "     37.113613558  \n",
       "0         36.8849  \n",
       "1         31.5885  \n",
       "2         38.2636  \n",
       "3         29.6818  \n",
       "4         30.0511  \n",
       "...           ...  \n",
       "3355        35.86  \n",
       "3356      35.5566  \n",
       "3357      34.3409  \n",
       "3358      34.5715  \n",
       "3359      29.7136  \n",
       "\n",
       "[3360 rows x 13 columns]"
      ]
     },
     "execution_count": 5,
     "metadata": {},
     "output_type": "execute_result"
    }
   ],
   "source": [
    "seed = 7\n",
    "np.random.seed(seed)\n",
    "\n",
    "df = pd.read_csv(\"HMEQClean.csv\")\n",
    "df['HomeImp'] = df.HomeImp.astype('category').cat.codes\n",
    "df['Other'] = df.Other.astype('category').cat.codes\n",
    "\n",
    "df = df.astype('object')\n",
    "df"
   ]
  },
  {
   "cell_type": "code",
   "execution_count": 6,
   "metadata": {},
   "outputs": [
    {
     "data": {
      "text/plain": [
       "array([[1, 1800, 28502, ..., 0, 8, 36.884894093],\n",
       "       [0, 2300, 102370, ..., 0, 13, 31.588503178000003],\n",
       "       [1, 2400, 34863, ..., 1, 21, 38.263600731],\n",
       "       ...,\n",
       "       [0, 89800, 50370, ..., 0, 16, 34.340882368],\n",
       "       [0, 89900, 48811, ..., 0, 16, 34.571519125],\n",
       "       [0, 23800, 76390, ..., 2, 29, 29.713601036999997]], dtype=object)"
      ]
     },
     "execution_count": 6,
     "metadata": {},
     "output_type": "execute_result"
    }
   ],
   "source": [
    "dataset = df.to_numpy()\n",
    "dataset"
   ]
  },
  {
   "cell_type": "code",
   "execution_count": null,
   "metadata": {},
   "outputs": [],
   "source": []
  },
  {
   "cell_type": "code",
   "execution_count": 7,
   "metadata": {},
   "outputs": [],
   "source": [
    "# split into input (X) and output (Y) variables\n",
    "X = dataset[:,1:13]\n",
    "Y = dataset[:,0]\n",
    "\n",
    "# split into 60% for train and 40% for test\n",
    "X_train, X_test, y_train, y_test = train_test_split(X, Y, test_size=0.4, random_state=seed)"
   ]
  },
  {
   "cell_type": "code",
   "execution_count": 5,
   "metadata": {},
   "outputs": [
    {
     "data": {
      "text/plain": [
       "(2016, 12)"
      ]
     },
     "execution_count": 5,
     "metadata": {},
     "output_type": "execute_result"
    }
   ],
   "source": [
    "X_train.shape"
   ]
  },
  {
   "cell_type": "code",
   "execution_count": 6,
   "metadata": {},
   "outputs": [
    {
     "data": {
      "text/plain": [
       "(1344, 12)"
      ]
     },
     "execution_count": 6,
     "metadata": {},
     "output_type": "execute_result"
    }
   ],
   "source": [
    "X_test.shape"
   ]
  },
  {
   "cell_type": "code",
   "execution_count": 7,
   "metadata": {},
   "outputs": [
    {
     "data": {
      "text/plain": [
       "array([1, 0, 1, ..., 0, 0, 0], dtype=object)"
      ]
     },
     "execution_count": 7,
     "metadata": {},
     "output_type": "execute_result"
    }
   ],
   "source": [
    "Y"
   ]
  },
  {
   "cell_type": "code",
   "execution_count": 8,
   "metadata": {},
   "outputs": [
    {
     "data": {
      "text/plain": [
       "array([2400, 98449, 117195, 1, 1, 4, 0, 0, 93.811774855, 0, 13,\n",
       "       29.681827045], dtype=object)"
      ]
     },
     "execution_count": 8,
     "metadata": {},
     "output_type": "execute_result"
    }
   ],
   "source": [
    "X[3]"
   ]
  },
  {
   "cell_type": "code",
   "execution_count": 9,
   "metadata": {},
   "outputs": [],
   "source": [
    "# create model\n",
    "model = Sequential()\n",
    "model.add(Dense(18, input_dim=12, activation='relu'))\n",
    "model.add(Dense(12, activation='relu'))\n",
    "model.add(Dense(1, activation='sigmoid'))"
   ]
  },
  {
   "cell_type": "code",
   "execution_count": 10,
   "metadata": {},
   "outputs": [],
   "source": [
    "# Compile model\n",
    "model.compile(loss='binary_crossentropy', optimizer='adam', metrics=['accuracy'])"
   ]
  },
  {
   "cell_type": "code",
   "execution_count": 11,
   "metadata": {},
   "outputs": [
    {
     "name": "stdout",
     "output_type": "stream",
     "text": [
      "Train on 2016 samples, validate on 1344 samples\n",
      "Epoch 1/150\n",
      "2016/2016 [==============================] - 1s 402us/step - loss: 118.5020 - accuracy: 0.8388 - val_loss: 20.8053 - val_accuracy: 0.8274\n",
      "Epoch 2/150\n",
      "2016/2016 [==============================] - 1s 286us/step - loss: 24.2160 - accuracy: 0.8388 - val_loss: 15.3379 - val_accuracy: 0.9040\n",
      "Epoch 3/150\n",
      "2016/2016 [==============================] - 1s 297us/step - loss: 22.2079 - accuracy: 0.8348 - val_loss: 8.2205 - val_accuracy: 0.7180\n",
      "Epoch 4/150\n",
      "2016/2016 [==============================] - 1s 296us/step - loss: 17.0975 - accuracy: 0.8418 - val_loss: 18.9328 - val_accuracy: 0.1897\n",
      "Epoch 5/150\n",
      "2016/2016 [==============================] - 1s 291us/step - loss: 17.3730 - accuracy: 0.8368 - val_loss: 22.1100 - val_accuracy: 0.9115\n",
      "Epoch 6/150\n",
      "2016/2016 [==============================] - 1s 288us/step - loss: 19.5315 - accuracy: 0.8433 - val_loss: 18.3661 - val_accuracy: 0.9115\n",
      "Epoch 7/150\n",
      "2016/2016 [==============================] - 1s 291us/step - loss: 17.3716 - accuracy: 0.8487 - val_loss: 30.2203 - val_accuracy: 0.9115\n",
      "Epoch 8/150\n",
      "2016/2016 [==============================] - 1s 282us/step - loss: 15.2967 - accuracy: 0.8423 - val_loss: 24.6123 - val_accuracy: 0.9115\n",
      "Epoch 9/150\n",
      "2016/2016 [==============================] - 1s 305us/step - loss: 16.5329 - accuracy: 0.8368 - val_loss: 5.1507 - val_accuracy: 0.9115\n",
      "Epoch 10/150\n",
      "2016/2016 [==============================] - 1s 291us/step - loss: 15.5162 - accuracy: 0.8393 - val_loss: 33.8062 - val_accuracy: 0.9025\n",
      "Epoch 11/150\n",
      "2016/2016 [==============================] - 1s 293us/step - loss: 11.6260 - accuracy: 0.8373 - val_loss: 7.2451 - val_accuracy: 0.9100\n",
      "Epoch 12/150\n",
      "2016/2016 [==============================] - 1s 289us/step - loss: 11.5169 - accuracy: 0.8512 - val_loss: 22.3317 - val_accuracy: 0.9115\n",
      "Epoch 13/150\n",
      "2016/2016 [==============================] - 1s 284us/step - loss: 16.5092 - accuracy: 0.8438 - val_loss: 40.2467 - val_accuracy: 0.8958\n",
      "Epoch 14/150\n",
      "2016/2016 [==============================] - 1s 288us/step - loss: 12.7864 - accuracy: 0.8442 - val_loss: 11.8952 - val_accuracy: 0.9025\n",
      "Epoch 15/150\n",
      "2016/2016 [==============================] - 1s 293us/step - loss: 13.2516 - accuracy: 0.8423 - val_loss: 1.5558 - val_accuracy: 0.8988\n",
      "Epoch 16/150\n",
      "2016/2016 [==============================] - 1s 283us/step - loss: 12.1394 - accuracy: 0.8467 - val_loss: 9.8976 - val_accuracy: 0.9115\n",
      "Epoch 17/150\n",
      "2016/2016 [==============================] - 1s 288us/step - loss: 11.2736 - accuracy: 0.8438 - val_loss: 8.9317 - val_accuracy: 0.9115\n",
      "Epoch 18/150\n",
      "2016/2016 [==============================] - 1s 288us/step - loss: 11.2057 - accuracy: 0.8373 - val_loss: 13.1321 - val_accuracy: 0.9115\n",
      "Epoch 19/150\n",
      "2016/2016 [==============================] - 1s 293us/step - loss: 11.1942 - accuracy: 0.8428 - val_loss: 3.4085 - val_accuracy: 0.9115\n",
      "Epoch 20/150\n",
      "2016/2016 [==============================] - 1s 282us/step - loss: 10.2673 - accuracy: 0.8442 - val_loss: 12.3591 - val_accuracy: 0.9115\n",
      "Epoch 21/150\n",
      "2016/2016 [==============================] - 1s 282us/step - loss: 9.6476 - accuracy: 0.8438 - val_loss: 20.4550 - val_accuracy: 0.9115\n",
      "Epoch 22/150\n",
      "2016/2016 [==============================] - 1s 284us/step - loss: 9.7975 - accuracy: 0.8438 - val_loss: 7.0840 - val_accuracy: 0.9115\n",
      "Epoch 23/150\n",
      "2016/2016 [==============================] - 1s 311us/step - loss: 11.1098 - accuracy: 0.8428 - val_loss: 2.9978 - val_accuracy: 0.8996\n",
      "Epoch 24/150\n",
      "2016/2016 [==============================] - 1s 298us/step - loss: 9.0632 - accuracy: 0.8363 - val_loss: 15.9298 - val_accuracy: 0.9115\n",
      "Epoch 25/150\n",
      "2016/2016 [==============================] - 1s 297us/step - loss: 11.1753 - accuracy: 0.8537 - val_loss: 12.5858 - val_accuracy: 0.9115\n",
      "Epoch 26/150\n",
      "2016/2016 [==============================] - 1s 293us/step - loss: 7.6010 - accuracy: 0.8457 - val_loss: 3.0751 - val_accuracy: 0.9048\n",
      "Epoch 27/150\n",
      "2016/2016 [==============================] - 1s 291us/step - loss: 7.9709 - accuracy: 0.8507 - val_loss: 8.5592 - val_accuracy: 0.1488\n",
      "Epoch 28/150\n",
      "2016/2016 [==============================] - 1s 284us/step - loss: 9.8864 - accuracy: 0.8447 - val_loss: 13.9129 - val_accuracy: 0.1302\n",
      "Epoch 29/150\n",
      "2016/2016 [==============================] - 1s 301us/step - loss: 8.3059 - accuracy: 0.8378 - val_loss: 1.2168 - val_accuracy: 0.9025\n",
      "Epoch 30/150\n",
      "2016/2016 [==============================] - 1s 281us/step - loss: 7.1676 - accuracy: 0.8487 - val_loss: 8.3267 - val_accuracy: 0.9115\n",
      "Epoch 31/150\n",
      "2016/2016 [==============================] - 1s 299us/step - loss: 8.5387 - accuracy: 0.8467 - val_loss: 3.9145 - val_accuracy: 0.9115\n",
      "Epoch 32/150\n",
      "2016/2016 [==============================] - 1s 285us/step - loss: 6.1330 - accuracy: 0.8378 - val_loss: 2.6825 - val_accuracy: 0.9115\n",
      "Epoch 33/150\n",
      "2016/2016 [==============================] - 1s 293us/step - loss: 8.4205 - accuracy: 0.8447 - val_loss: 4.0154 - val_accuracy: 0.9048\n",
      "Epoch 34/150\n",
      "2016/2016 [==============================] - 1s 309us/step - loss: 4.9889 - accuracy: 0.8452 - val_loss: 3.4213 - val_accuracy: 0.9115\n",
      "Epoch 35/150\n",
      "2016/2016 [==============================] - 1s 284us/step - loss: 7.5940 - accuracy: 0.8472 - val_loss: 5.6622 - val_accuracy: 0.9115\n",
      "Epoch 36/150\n",
      "2016/2016 [==============================] - 1s 289us/step - loss: 8.5198 - accuracy: 0.8403 - val_loss: 4.1558 - val_accuracy: 0.9115\n",
      "Epoch 37/150\n",
      "2016/2016 [==============================] - 1s 288us/step - loss: 7.0378 - accuracy: 0.8442 - val_loss: 1.8295 - val_accuracy: 0.9115\n",
      "Epoch 38/150\n",
      "2016/2016 [==============================] - 1s 297us/step - loss: 4.7491 - accuracy: 0.8433 - val_loss: 0.6581 - val_accuracy: 0.9122\n",
      "Epoch 39/150\n",
      "2016/2016 [==============================] - 1s 291us/step - loss: 6.5044 - accuracy: 0.8457 - val_loss: 4.5405 - val_accuracy: 0.9115\n",
      "Epoch 40/150\n",
      "2016/2016 [==============================] - 1s 292us/step - loss: 5.8301 - accuracy: 0.8492 - val_loss: 9.2577 - val_accuracy: 0.9115\n",
      "Epoch 41/150\n",
      "2016/2016 [==============================] - 1s 296us/step - loss: 8.0455 - accuracy: 0.8457 - val_loss: 7.0133 - val_accuracy: 0.9115\n",
      "Epoch 42/150\n",
      "2016/2016 [==============================] - 1s 288us/step - loss: 9.6661 - accuracy: 0.8428 - val_loss: 1.8476 - val_accuracy: 0.9115\n",
      "Epoch 43/150\n",
      "2016/2016 [==============================] - 1s 289us/step - loss: 5.2813 - accuracy: 0.8413 - val_loss: 10.1718 - val_accuracy: 0.0952\n",
      "Epoch 44/150\n",
      "2016/2016 [==============================] - 1s 283us/step - loss: 6.1479 - accuracy: 0.8433 - val_loss: 4.4252 - val_accuracy: 0.9115\n",
      "Epoch 45/150\n",
      "2016/2016 [==============================] - 1s 290us/step - loss: 5.1162 - accuracy: 0.8477 - val_loss: 6.1612 - val_accuracy: 0.3385\n",
      "Epoch 46/150\n",
      "2016/2016 [==============================] - 1s 279us/step - loss: 5.9934 - accuracy: 0.8472 - val_loss: 1.5976 - val_accuracy: 0.9115\n",
      "Epoch 47/150\n",
      "2016/2016 [==============================] - 1s 289us/step - loss: 6.7158 - accuracy: 0.8477 - val_loss: 1.9663 - val_accuracy: 0.9115\n",
      "Epoch 48/150\n",
      "2016/2016 [==============================] - 1s 295us/step - loss: 5.3147 - accuracy: 0.8438 - val_loss: 2.2105 - val_accuracy: 0.9115\n",
      "Epoch 49/150\n",
      "2016/2016 [==============================] - 1s 342us/step - loss: 5.8888 - accuracy: 0.8467 - val_loss: 5.7089 - val_accuracy: 0.9115\n",
      "Epoch 50/150\n",
      "2016/2016 [==============================] - 1s 287us/step - loss: 4.7499 - accuracy: 0.8492 - val_loss: 13.5706 - val_accuracy: 0.0967\n",
      "Epoch 51/150\n",
      "2016/2016 [==============================] - 1s 275us/step - loss: 4.5339 - accuracy: 0.8522 - val_loss: 2.3962 - val_accuracy: 0.9115\n",
      "Epoch 52/150\n",
      "2016/2016 [==============================] - 1s 289us/step - loss: 4.1506 - accuracy: 0.8467 - val_loss: 7.5475 - val_accuracy: 0.1049\n",
      "Epoch 53/150\n",
      "2016/2016 [==============================] - 1s 286us/step - loss: 3.6985 - accuracy: 0.8457 - val_loss: 22.5735 - val_accuracy: 0.1124\n",
      "Epoch 54/150\n",
      "2016/2016 [==============================] - 1s 288us/step - loss: 6.0242 - accuracy: 0.8423 - val_loss: 3.8010 - val_accuracy: 0.9115\n",
      "Epoch 55/150\n",
      "2016/2016 [==============================] - 1s 286us/step - loss: 3.1151 - accuracy: 0.8497 - val_loss: 2.1379 - val_accuracy: 0.9115\n"
     ]
    },
    {
     "name": "stdout",
     "output_type": "stream",
     "text": [
      "Epoch 56/150\n",
      "2016/2016 [==============================] - 1s 284us/step - loss: 3.5197 - accuracy: 0.8348 - val_loss: 4.2656 - val_accuracy: 0.9115\n",
      "Epoch 57/150\n",
      "2016/2016 [==============================] - 1s 282us/step - loss: 3.3235 - accuracy: 0.8472 - val_loss: 1.6698 - val_accuracy: 0.9115\n",
      "Epoch 58/150\n",
      "2016/2016 [==============================] - 1s 292us/step - loss: 3.5124 - accuracy: 0.8462 - val_loss: 4.0378 - val_accuracy: 0.9115\n",
      "Epoch 59/150\n",
      "2016/2016 [==============================] - 1s 279us/step - loss: 3.1181 - accuracy: 0.8537 - val_loss: 4.0034 - val_accuracy: 0.9115\n",
      "Epoch 60/150\n",
      "2016/2016 [==============================] - 1s 312us/step - loss: 3.0047 - accuracy: 0.8527 - val_loss: 1.8322 - val_accuracy: 0.9115\n",
      "Epoch 61/150\n",
      "2016/2016 [==============================] - 1s 286us/step - loss: 2.6804 - accuracy: 0.8373 - val_loss: 1.8599 - val_accuracy: 0.9115\n",
      "Epoch 62/150\n",
      "2016/2016 [==============================] - 1s 284us/step - loss: 1.9976 - accuracy: 0.8457 - val_loss: 10.3671 - val_accuracy: 0.1176\n",
      "Epoch 63/150\n",
      "2016/2016 [==============================] - 1s 284us/step - loss: 2.3220 - accuracy: 0.8467 - val_loss: 3.7982 - val_accuracy: 0.9115\n",
      "Epoch 64/150\n",
      "2016/2016 [==============================] - 1s 281us/step - loss: 2.3541 - accuracy: 0.8576 - val_loss: 2.3498 - val_accuracy: 0.9115\n",
      "Epoch 65/150\n",
      "2016/2016 [==============================] - 1s 279us/step - loss: 1.9072 - accuracy: 0.8472 - val_loss: 1.7414 - val_accuracy: 0.9115\n",
      "Epoch 66/150\n",
      "2016/2016 [==============================] - 1s 288us/step - loss: 2.2283 - accuracy: 0.8447 - val_loss: 0.5719 - val_accuracy: 0.8795\n",
      "Epoch 67/150\n",
      "2016/2016 [==============================] - 1s 279us/step - loss: 1.5159 - accuracy: 0.8557 - val_loss: 2.5060 - val_accuracy: 0.9115\n",
      "Epoch 68/150\n",
      "2016/2016 [==============================] - 1s 277us/step - loss: 1.9239 - accuracy: 0.8571 - val_loss: 2.1202 - val_accuracy: 0.9115\n",
      "Epoch 69/150\n",
      "2016/2016 [==============================] - 1s 291us/step - loss: 1.8155 - accuracy: 0.8507 - val_loss: 3.7467 - val_accuracy: 0.9115\n",
      "Epoch 70/150\n",
      "2016/2016 [==============================] - 1s 277us/step - loss: 1.9512 - accuracy: 0.8477 - val_loss: 0.5500 - val_accuracy: 0.9107\n",
      "Epoch 71/150\n",
      "2016/2016 [==============================] - 1s 282us/step - loss: 1.6381 - accuracy: 0.8566 - val_loss: 1.0601 - val_accuracy: 0.8981\n",
      "Epoch 72/150\n",
      "2016/2016 [==============================] - 1s 286us/step - loss: 1.3514 - accuracy: 0.8671 - val_loss: 0.8414 - val_accuracy: 0.9107\n",
      "Epoch 73/150\n",
      "2016/2016 [==============================] - 1s 273us/step - loss: 1.1379 - accuracy: 0.8576 - val_loss: 1.5485 - val_accuracy: 0.9115\n",
      "Epoch 74/150\n",
      "2016/2016 [==============================] - 1s 285us/step - loss: 1.3400 - accuracy: 0.8616 - val_loss: 0.7040 - val_accuracy: 0.9115\n",
      "Epoch 75/150\n",
      "2016/2016 [==============================] - 1s 273us/step - loss: 1.1297 - accuracy: 0.8626 - val_loss: 2.6427 - val_accuracy: 0.9115\n",
      "Epoch 76/150\n",
      "2016/2016 [==============================] - 1s 286us/step - loss: 1.9278 - accuracy: 0.8547 - val_loss: 1.1259 - val_accuracy: 0.9115\n",
      "Epoch 77/150\n",
      "2016/2016 [==============================] - 1s 284us/step - loss: 1.1541 - accuracy: 0.8527 - val_loss: 1.5803 - val_accuracy: 0.9115\n",
      "Epoch 78/150\n",
      "2016/2016 [==============================] - 1s 285us/step - loss: 1.2582 - accuracy: 0.8621 - val_loss: 0.4444 - val_accuracy: 0.9100\n",
      "Epoch 79/150\n",
      "2016/2016 [==============================] - 1s 284us/step - loss: 0.9784 - accuracy: 0.8715 - val_loss: 1.0515 - val_accuracy: 0.9115\n",
      "Epoch 80/150\n",
      "2016/2016 [==============================] - 1s 294us/step - loss: 0.7494 - accuracy: 0.8814 - val_loss: 0.4772 - val_accuracy: 0.8921\n",
      "Epoch 81/150\n",
      "2016/2016 [==============================] - 1s 288us/step - loss: 0.7184 - accuracy: 0.8745 - val_loss: 0.5048 - val_accuracy: 0.9107\n",
      "Epoch 82/150\n",
      "2016/2016 [==============================] - 1s 283us/step - loss: 0.6559 - accuracy: 0.8755 - val_loss: 1.0994 - val_accuracy: 0.9115\n",
      "Epoch 83/150\n",
      "2016/2016 [==============================] - 1s 276us/step - loss: 0.5717 - accuracy: 0.8834 - val_loss: 0.3766 - val_accuracy: 0.9107\n",
      "Epoch 84/150\n",
      "2016/2016 [==============================] - 1s 283us/step - loss: 0.5585 - accuracy: 0.8854 - val_loss: 2.1072 - val_accuracy: 0.9115\n",
      "Epoch 85/150\n",
      "2016/2016 [==============================] - 1s 290us/step - loss: 0.5181 - accuracy: 0.8948 - val_loss: 0.4759 - val_accuracy: 0.9107\n",
      "Epoch 86/150\n",
      "2016/2016 [==============================] - 1s 295us/step - loss: 0.4730 - accuracy: 0.8894 - val_loss: 0.4276 - val_accuracy: 0.9122\n",
      "Epoch 87/150\n",
      "2016/2016 [==============================] - 1s 289us/step - loss: 0.4723 - accuracy: 0.8904 - val_loss: 0.4242 - val_accuracy: 0.9115\n",
      "Epoch 88/150\n",
      "2016/2016 [==============================] - 1s 279us/step - loss: 0.4006 - accuracy: 0.9008 - val_loss: 0.4021 - val_accuracy: 0.9115\n",
      "Epoch 89/150\n",
      "2016/2016 [==============================] - 1s 279us/step - loss: 0.6534 - accuracy: 0.6845 - val_loss: 0.5544 - val_accuracy: 0.9115\n",
      "Epoch 90/150\n",
      "2016/2016 [==============================] - 1s 276us/step - loss: 0.4947 - accuracy: 0.9112 - val_loss: 0.4471 - val_accuracy: 0.9115\n",
      "Epoch 91/150\n",
      "2016/2016 [==============================] - 1s 276us/step - loss: 0.4168 - accuracy: 0.9112 - val_loss: 0.3902 - val_accuracy: 0.9115\n",
      "Epoch 92/150\n",
      "2016/2016 [==============================] - 1s 272us/step - loss: 0.3720 - accuracy: 0.9112 - val_loss: 0.3561 - val_accuracy: 0.9115\n",
      "Epoch 93/150\n",
      "2016/2016 [==============================] - 1s 277us/step - loss: 0.3448 - accuracy: 0.9112 - val_loss: 0.3348 - val_accuracy: 0.9115\n",
      "Epoch 94/150\n",
      "2016/2016 [==============================] - 1s 275us/step - loss: 0.3279 - accuracy: 0.9112 - val_loss: 0.3213 - val_accuracy: 0.9115\n",
      "Epoch 95/150\n",
      "2016/2016 [==============================] - 1s 282us/step - loss: 0.3171 - accuracy: 0.9112 - val_loss: 0.3127 - val_accuracy: 0.9115\n",
      "Epoch 96/150\n",
      "2016/2016 [==============================] - 1s 280us/step - loss: 0.3103 - accuracy: 0.9112 - val_loss: 0.3074 - val_accuracy: 0.9115\n",
      "Epoch 97/150\n",
      "2016/2016 [==============================] - 1s 280us/step - loss: 0.3060 - accuracy: 0.9112 - val_loss: 0.3040 - val_accuracy: 0.9115\n",
      "Epoch 98/150\n",
      "2016/2016 [==============================] - 1s 281us/step - loss: 0.3034 - accuracy: 0.9112 - val_loss: 0.3019 - val_accuracy: 0.9115\n",
      "Epoch 99/150\n",
      "2016/2016 [==============================] - 1s 273us/step - loss: 0.3018 - accuracy: 0.9112 - val_loss: 0.3007 - val_accuracy: 0.9115\n",
      "Epoch 100/150\n",
      "2016/2016 [==============================] - 1s 282us/step - loss: 0.3008 - accuracy: 0.9112 - val_loss: 0.2999 - val_accuracy: 0.9115\n",
      "Epoch 101/150\n",
      "2016/2016 [==============================] - 1s 272us/step - loss: 0.3002 - accuracy: 0.9112 - val_loss: 0.2995 - val_accuracy: 0.9115\n",
      "Epoch 102/150\n",
      "2016/2016 [==============================] - 1s 276us/step - loss: 0.2999 - accuracy: 0.9112 - val_loss: 0.2992 - val_accuracy: 0.9115\n",
      "Epoch 103/150\n",
      "2016/2016 [==============================] - 1s 282us/step - loss: 0.2997 - accuracy: 0.9112 - val_loss: 0.2990 - val_accuracy: 0.9115\n",
      "Epoch 104/150\n",
      "2016/2016 [==============================] - 1s 263us/step - loss: 0.2995 - accuracy: 0.9112 - val_loss: 0.2989 - val_accuracy: 0.9115\n",
      "Epoch 105/150\n",
      "2016/2016 [==============================] - 1s 273us/step - loss: 0.2994 - accuracy: 0.9112 - val_loss: 0.2989 - val_accuracy: 0.9115\n",
      "Epoch 106/150\n",
      "2016/2016 [==============================] - 1s 282us/step - loss: 0.2994 - accuracy: 0.9112 - val_loss: 0.2988 - val_accuracy: 0.9115\n",
      "Epoch 107/150\n",
      "2016/2016 [==============================] - 1s 271us/step - loss: 0.2994 - accuracy: 0.9112 - val_loss: 0.2988 - val_accuracy: 0.9115\n",
      "Epoch 108/150\n",
      "2016/2016 [==============================] - 1s 282us/step - loss: 0.2994 - accuracy: 0.9112 - val_loss: 0.2988 - val_accuracy: 0.9115\n",
      "Epoch 109/150\n",
      "2016/2016 [==============================] - 1s 276us/step - loss: 0.2993 - accuracy: 0.9112 - val_loss: 0.2988 - val_accuracy: 0.9115\n",
      "Epoch 110/150\n",
      "2016/2016 [==============================] - 1s 272us/step - loss: 0.2993 - accuracy: 0.9112 - val_loss: 0.2988 - val_accuracy: 0.9115\n",
      "Epoch 111/150\n",
      "2016/2016 [==============================] - 1s 274us/step - loss: 0.2993 - accuracy: 0.9112 - val_loss: 0.2988 - val_accuracy: 0.9115\n",
      "Epoch 112/150\n",
      "2016/2016 [==============================] - 1s 284us/step - loss: 0.2994 - accuracy: 0.9112 - val_loss: 0.2987 - val_accuracy: 0.9115\n",
      "Epoch 113/150\n",
      "2016/2016 [==============================] - 1s 284us/step - loss: 0.2993 - accuracy: 0.9112 - val_loss: 0.2987 - val_accuracy: 0.9115\n",
      "Epoch 114/150\n",
      "2016/2016 [==============================] - 1s 283us/step - loss: 0.2993 - accuracy: 0.9112 - val_loss: 0.2987 - val_accuracy: 0.9115\n",
      "Epoch 115/150\n",
      "2016/2016 [==============================] - 1s 271us/step - loss: 0.2993 - accuracy: 0.9112 - val_loss: 0.2987 - val_accuracy: 0.9115\n",
      "Epoch 116/150\n",
      "2016/2016 [==============================] - 1s 287us/step - loss: 0.2993 - accuracy: 0.9112 - val_loss: 0.2987 - val_accuracy: 0.9115\n",
      "Epoch 117/150\n",
      "2016/2016 [==============================] - 1s 275us/step - loss: 0.2993 - accuracy: 0.9112 - val_loss: 0.2987 - val_accuracy: 0.9115\n",
      "Epoch 118/150\n",
      "2016/2016 [==============================] - 1s 280us/step - loss: 0.2993 - accuracy: 0.9112 - val_loss: 0.2987 - val_accuracy: 0.9115\n",
      "Epoch 119/150\n",
      "2016/2016 [==============================] - 1s 281us/step - loss: 0.2993 - accuracy: 0.9112 - val_loss: 0.2987 - val_accuracy: 0.9115\n",
      "Epoch 120/150\n",
      "2016/2016 [==============================] - 1s 282us/step - loss: 0.2993 - accuracy: 0.9112 - val_loss: 0.2987 - val_accuracy: 0.9115\n",
      "Epoch 121/150\n",
      "2016/2016 [==============================] - 1s 276us/step - loss: 0.2993 - accuracy: 0.9112 - val_loss: 0.2987 - val_accuracy: 0.9115\n",
      "Epoch 122/150\n",
      "2016/2016 [==============================] - 1s 281us/step - loss: 0.2993 - accuracy: 0.9112 - val_loss: 0.2987 - val_accuracy: 0.9115\n",
      "Epoch 123/150\n",
      "2016/2016 [==============================] - 1s 263us/step - loss: 0.2993 - accuracy: 0.9112 - val_loss: 0.2987 - val_accuracy: 0.9115\n",
      "Epoch 124/150\n",
      "2016/2016 [==============================] - 1s 283us/step - loss: 0.2993 - accuracy: 0.9112 - val_loss: 0.2987 - val_accuracy: 0.9115\n",
      "Epoch 125/150\n",
      "2016/2016 [==============================] - 1s 282us/step - loss: 0.2993 - accuracy: 0.9112 - val_loss: 0.2987 - val_accuracy: 0.9115\n",
      "Epoch 126/150\n",
      "2016/2016 [==============================] - 1s 293us/step - loss: 0.2993 - accuracy: 0.9112 - val_loss: 0.2987 - val_accuracy: 0.9115\n",
      "Epoch 127/150\n",
      "2016/2016 [==============================] - 1s 286us/step - loss: 0.2993 - accuracy: 0.9112 - val_loss: 0.2987 - val_accuracy: 0.9115\n",
      "Epoch 128/150\n",
      "2016/2016 [==============================] - 1s 279us/step - loss: 0.2993 - accuracy: 0.9112 - val_loss: 0.2987 - val_accuracy: 0.9115\n",
      "Epoch 129/150\n",
      "2016/2016 [==============================] - 1s 271us/step - loss: 0.2993 - accuracy: 0.9112 - val_loss: 0.2987 - val_accuracy: 0.9115\n",
      "Epoch 130/150\n",
      "2016/2016 [==============================] - 1s 279us/step - loss: 0.2993 - accuracy: 0.9112 - val_loss: 0.2987 - val_accuracy: 0.9115\n",
      "Epoch 131/150\n",
      "2016/2016 [==============================] - 1s 281us/step - loss: 0.2993 - accuracy: 0.9112 - val_loss: 0.2987 - val_accuracy: 0.9115\n",
      "Epoch 132/150\n",
      "2016/2016 [==============================] - 1s 284us/step - loss: 0.2993 - accuracy: 0.9112 - val_loss: 0.2987 - val_accuracy: 0.9115\n",
      "Epoch 133/150\n",
      "2016/2016 [==============================] - 1s 273us/step - loss: 0.2993 - accuracy: 0.9112 - val_loss: 0.2987 - val_accuracy: 0.9115\n",
      "Epoch 134/150\n",
      "2016/2016 [==============================] - 1s 279us/step - loss: 0.2993 - accuracy: 0.9112 - val_loss: 0.2987 - val_accuracy: 0.9115\n",
      "Epoch 135/150\n",
      "2016/2016 [==============================] - 1s 290us/step - loss: 0.2993 - accuracy: 0.9112 - val_loss: 0.2987 - val_accuracy: 0.9115\n",
      "Epoch 136/150\n",
      "2016/2016 [==============================] - 1s 267us/step - loss: 0.2993 - accuracy: 0.9112 - val_loss: 0.2987 - val_accuracy: 0.9115\n",
      "Epoch 137/150\n",
      "2016/2016 [==============================] - 1s 274us/step - loss: 0.2993 - accuracy: 0.9112 - val_loss: 0.2987 - val_accuracy: 0.9115\n",
      "Epoch 138/150\n",
      "2016/2016 [==============================] - 1s 282us/step - loss: 0.2993 - accuracy: 0.9112 - val_loss: 0.2987 - val_accuracy: 0.9115\n",
      "Epoch 139/150\n",
      "2016/2016 [==============================] - 1s 298us/step - loss: 0.2993 - accuracy: 0.9112 - val_loss: 0.2987 - val_accuracy: 0.9115\n",
      "Epoch 140/150\n",
      "2016/2016 [==============================] - 1s 277us/step - loss: 0.2993 - accuracy: 0.9112 - val_loss: 0.2987 - val_accuracy: 0.9115\n",
      "Epoch 141/150\n",
      "2016/2016 [==============================] - 1s 287us/step - loss: 0.2993 - accuracy: 0.9112 - val_loss: 0.2987 - val_accuracy: 0.9115\n",
      "Epoch 142/150\n",
      "2016/2016 [==============================] - 1s 283us/step - loss: 0.2993 - accuracy: 0.9112 - val_loss: 0.2987 - val_accuracy: 0.9115\n",
      "Epoch 143/150\n",
      "2016/2016 [==============================] - 1s 287us/step - loss: 0.2993 - accuracy: 0.9112 - val_loss: 0.2987 - val_accuracy: 0.9115\n",
      "Epoch 144/150\n",
      "2016/2016 [==============================] - 1s 284us/step - loss: 0.2993 - accuracy: 0.9112 - val_loss: 0.2987 - val_accuracy: 0.9115\n",
      "Epoch 145/150\n",
      "2016/2016 [==============================] - 1s 284us/step - loss: 0.2993 - accuracy: 0.9112 - val_loss: 0.2987 - val_accuracy: 0.9115\n",
      "Epoch 146/150\n",
      "2016/2016 [==============================] - 1s 288us/step - loss: 0.2993 - accuracy: 0.9112 - val_loss: 0.2987 - val_accuracy: 0.9115\n",
      "Epoch 147/150\n",
      "2016/2016 [==============================] - 1s 283us/step - loss: 0.2993 - accuracy: 0.9112 - val_loss: 0.2987 - val_accuracy: 0.9115\n",
      "Epoch 148/150\n",
      "2016/2016 [==============================] - 1s 281us/step - loss: 0.2993 - accuracy: 0.9112 - val_loss: 0.2987 - val_accuracy: 0.9115\n",
      "Epoch 149/150\n",
      "2016/2016 [==============================] - 1s 286us/step - loss: 0.2993 - accuracy: 0.9112 - val_loss: 0.2987 - val_accuracy: 0.9115\n",
      "Epoch 150/150\n",
      "2016/2016 [==============================] - 1s 279us/step - loss: 0.2993 - accuracy: 0.9112 - val_loss: 0.2987 - val_accuracy: 0.9115\n"
     ]
    }
   ],
   "source": [
    "# Fit the model\n",
    "history = model.fit(X_train, y_train, validation_data=(X_test,y_test), epochs=150, batch_size=5)"
   ]
  },
  {
   "cell_type": "code",
   "execution_count": 12,
   "metadata": {},
   "outputs": [
    {
     "name": "stdout",
     "output_type": "stream",
     "text": [
      "1344/1344 [==============================] - 0s 16us/step\n",
      "Accuracy: 91.15\n"
     ]
    }
   ],
   "source": [
    "_, accuracy = model.evaluate(X_test, y_test)\n",
    "print('Accuracy: %.2f' % (accuracy*100))"
   ]
  },
  {
   "cell_type": "code",
   "execution_count": 18,
   "metadata": {},
   "outputs": [
    {
     "name": "stdout",
     "output_type": "stream",
     "text": [
      "[10800, 78898, 86567, 0, 3, 9, 0, 0, 179.83082878, 0, 12, 40.291951983000004] => 0 (expected 0)\n",
      "[15900, 68304, 92271, 0, 2, 1, 1, 2, 113.22840343, 2, 25, 32.881846931] => 0 (expected 0)\n",
      "[13600, 64799, 84425, 0, 1, 14, 0, 0, 115.32388361, 0, 24, 36.85085748] => 0 (expected 0)\n",
      "[16500, 43223, 46925, 0, 2, 10, 0, 0, 178.00238341, 4, 20, 40.206333768] => 0 (expected 1)\n",
      "[13900, 56710, 59348, 1, 2, 14, 2, 1, 176.53032737, 0, 39, 24.393714522] => 0 (expected 1)\n"
     ]
    }
   ],
   "source": [
    "predictions = model.predict_classes(X_test)\n",
    "for i in range(5): \n",
    "    print('%s => %d (expected %d)' % (X_test[i].tolist(), predictions[i], y_test[i]))"
   ]
  },
  {
   "cell_type": "code",
   "execution_count": 14,
   "metadata": {},
   "outputs": [
    {
     "name": "stdout",
     "output_type": "stream",
     "text": [
      "dict_keys(['val_loss', 'val_accuracy', 'loss', 'accuracy'])\n"
     ]
    }
   ],
   "source": [
    "print(history.history.keys())"
   ]
  },
  {
   "cell_type": "code",
   "execution_count": 15,
   "metadata": {},
   "outputs": [
    {
     "data": {
      "image/png": "[encoded data removed]",
      "text/plain": [
       "<Figure size 432x288 with 1 Axes>"
      ]
     },
     "metadata": {
      "needs_background": "light"
     },
     "output_type": "display_data"
    }
   ],
   "source": [
    "import matplotlib.pyplot as plt\n",
    "\n",
    "# summarize history for accuracy\n",
    "plt.plot(history.history['accuracy'])\n",
    "plt.plot(history.history['val_accuracy'])\n",
    "plt.title('model accuracy')\n",
    "plt.ylabel('accuracy')\n",
    "plt.xlabel('epoch')\n",
    "plt.legend(['train', 'test'], loc='upper left')\n",
    "plt.show()"
   ]
  },
  {
   "cell_type": "code",
   "execution_count": 16,
   "metadata": {},
   "outputs": [
    {
     "data": {
      "image/png": "[encoded data removed]",
      "text/plain": [
       "<Figure size 432x288 with 1 Axes>"
      ]
     },
     "metadata": {
      "needs_background": "light"
     },
     "output_type": "display_data"
    }
   ],
   "source": [
    "# summarize history for loss\n",
    "plt.plot(history.history['loss'])\n",
    "plt.plot(history.history['val_loss'])\n",
    "plt.title('model loss')\n",
    "plt.ylabel('loss')\n",
    "plt.xlabel('epoch')\n",
    "plt.legend(['train', 'test'], loc='upper left')\n",
    "plt.show()"
   ]
  },
  {
   "cell_type": "code",
   "execution_count": 17,
   "metadata": {},
   "outputs": [
    {
     "data": {
      "text/plain": [
       "array([[1, 1800, 28502, ..., 0, 8, 36.884894093],\n",
       "       [0, 2300, 102370, ..., 0, 13, 31.588503178000003],\n",
       "       [1, 2400, 34863, ..., 1, 21, 38.263600731],\n",
       "       ...,\n",
       "       [0, 89800, 50370, ..., 0, 16, 34.340882368],\n",
       "       [0, 89900, 48811, ..., 0, 16, 34.571519125],\n",
       "       [0, 23800, 76390, ..., 2, 29, 29.713601036999997]], dtype=object)"
      ]
     },
     "execution_count": 17,
     "metadata": {},
     "output_type": "execute_result"
    }
   ],
   "source": [
    "dataset"
   ]
  },
  {
   "cell_type": "code",
   "execution_count": 18,
   "metadata": {},
   "outputs": [
    {
     "data": {
      "text/plain": [
       "array([[0],\n",
       "       [0],\n",
       "       [0],\n",
       "       ...,\n",
       "       [0],\n",
       "       [0],\n",
       "       [0]])"
      ]
     },
     "execution_count": 18,
     "metadata": {},
     "output_type": "execute_result"
    }
   ],
   "source": [
    "predictions"
   ]
  },
  {
   "cell_type": "code",
   "execution_count": 19,
   "metadata": {},
   "outputs": [
    {
     "ename": "AttributeError",
     "evalue": "'numpy.ndarray' object has no attribute 'plot'",
     "output_type": "error",
     "traceback": [
      "\u001b[1;31m---------------------------------------------------------------------------\u001b[0m",
      "\u001b[1;31mAttributeError\u001b[0m                            Traceback (most recent call last)",
      "\u001b[1;32m<ipython-input-19-2ee6406b6de8>\u001b[0m in \u001b[0;36m<module>\u001b[1;34m\u001b[0m\n\u001b[1;32m----> 1\u001b[1;33m \u001b[0mdataset\u001b[0m\u001b[1;33m.\u001b[0m\u001b[0mplot\u001b[0m\u001b[1;33m(\u001b[0m\u001b[0mx\u001b[0m\u001b[1;33m=\u001b[0m\u001b[1;34m'MinTemp'\u001b[0m\u001b[1;33m,\u001b[0m \u001b[0my\u001b[0m\u001b[1;33m=\u001b[0m\u001b[1;34m'MaxTemp'\u001b[0m\u001b[1;33m,\u001b[0m \u001b[0mstyle\u001b[0m\u001b[1;33m=\u001b[0m\u001b[1;34m'o'\u001b[0m\u001b[1;33m)\u001b[0m\u001b[1;33m\u001b[0m\u001b[1;33m\u001b[0m\u001b[0m\n\u001b[0m\u001b[0;32m      2\u001b[0m \u001b[0mplt\u001b[0m\u001b[1;33m.\u001b[0m\u001b[0mtitle\u001b[0m\u001b[1;33m(\u001b[0m\u001b[1;34m'MinTemp vs MaxTemp'\u001b[0m\u001b[1;33m)\u001b[0m\u001b[1;33m\u001b[0m\u001b[1;33m\u001b[0m\u001b[0m\n\u001b[0;32m      3\u001b[0m \u001b[0mplt\u001b[0m\u001b[1;33m.\u001b[0m\u001b[0mxlabel\u001b[0m\u001b[1;33m(\u001b[0m\u001b[1;34m'MinTemp'\u001b[0m\u001b[1;33m)\u001b[0m\u001b[1;33m\u001b[0m\u001b[1;33m\u001b[0m\u001b[0m\n\u001b[0;32m      4\u001b[0m \u001b[0mplt\u001b[0m\u001b[1;33m.\u001b[0m\u001b[0mylabel\u001b[0m\u001b[1;33m(\u001b[0m\u001b[1;34m'MaxTemp'\u001b[0m\u001b[1;33m)\u001b[0m\u001b[1;33m\u001b[0m\u001b[1;33m\u001b[0m\u001b[0m\n\u001b[0;32m      5\u001b[0m \u001b[0mplt\u001b[0m\u001b[1;33m.\u001b[0m\u001b[0mshow\u001b[0m\u001b[1;33m(\u001b[0m\u001b[1;33m)\u001b[0m\u001b[1;33m\u001b[0m\u001b[1;33m\u001b[0m\u001b[0m\n",
      "\u001b[1;31mAttributeError\u001b[0m: 'numpy.ndarray' object has no attribute 'plot'"
     ]
    }
   ],
   "source": [
    "dataset.plot(x='MinTemp', y='MaxTemp', style='o')  \n",
    "plt.title('MinTemp vs MaxTemp')  \n",
    "plt.xlabel('MinTemp')  \n",
    "plt.ylabel('MaxTemp')  \n",
    "plt.show()"
   ]
  },
  {
   "cell_type": "code",
   "execution_count": null,
   "metadata": {},
   "outputs": [],
   "source": [
    "x1 = y_test\n",
    "x2 = predictions\n",
    "\n",
    "sizey = []\n",
    "for i in range(1344):\n",
    "    sizey.append(i)\n",
    "\n",
    "plt.plot(sizey, x1, label = \"line 1\")\n",
    "plt.plot(sizey, x2, label = \"line 1\")\n",
    "plt.legend()\n",
    "plt.show()"
   ]
  },
  {
   "cell_type": "code",
   "execution_count": null,
   "metadata": {},
   "outputs": [],
   "source": [
    "dataset[:,0].shape"
   ]
  },
  {
   "cell_type": "code",
   "execution_count": null,
   "metadata": {},
   "outputs": [],
   "source": [
    "predictions.shape"
   ]
  },
  {
   "cell_type": "code",
   "execution_count": null,
   "metadata": {},
   "outputs": [],
   "source": [
    "Y"
   ]
  },
  {
   "cell_type": "code",
   "execution_count": 17,
   "metadata": {},
   "outputs": [
    {
     "ename": "NameError",
     "evalue": "name 'predictions' is not defined",
     "output_type": "error",
     "traceback": [
      "\u001b[1;31m---------------------------------------------------------------------------\u001b[0m",
      "\u001b[1;31mNameError\u001b[0m                                 Traceback (most recent call last)",
      "\u001b[1;32m<ipython-input-17-fd2951b82103>\u001b[0m in \u001b[0;36m<module>\u001b[1;34m\u001b[0m\n\u001b[1;32m----> 1\u001b[1;33m \u001b[0mpredictions\u001b[0m\u001b[1;33m\u001b[0m\u001b[1;33m\u001b[0m\u001b[0m\n\u001b[0m",
      "\u001b[1;31mNameError\u001b[0m: name 'predictions' is not defined"
     ]
    }
   ],
   "source": [
    "predictions"
   ]
  },
  {
   "cell_type": "code",
   "execution_count": null,
   "metadata": {},
   "outputs": [],
   "source": [
    "import itertools\n",
    "from sklearn.metrics import confusion_matrix\n",
    "\n",
    "def plot_confusion_matrix(cm,classes,normalize=False,title='Confusion matrix',cmap=plt.cm.Blues):\n",
    "    if normalize:\n",
    "        cm=cm.astype('float')/cm.sum(axis=1)[:,np.newaxis]\n",
    "        print(\"Normalized confusion matrix\")\n",
    "    else:\n",
    "        print('Confusion matrix, without normalization')\n",
    "    print(cm)\n",
    "    plt.imshow(cm,interpolation='nearest',cmap=cmap)\n",
    "    plt.title(title)\n",
    "    plt.colorbar()\n",
    "    tick_marks=np.arange(len(classes))\n",
    "    plt.xticks(tick_marks,classes,rotation=45)\n",
    "    plt.yticks(tick_marks,classes)\n",
    "    fmt='.2f' if normalize else 'd'\n",
    "    thresh=cm.max()/2.\n",
    "    for i,j in itertools.product(range(cm.shape[0]),range(cm.shape[1])):\n",
    "        plt.text(j,i,format(cm[i,j],fmt),horizontalalignment=\"center\",color=\"white\" if cm[i,j]>thresh else\"black\")\n",
    "    plt.tight_layout()\n",
    "    plt.ylabel('True label')\n",
    "    plt.xlabel('Predicted label')"
   ]
  },
  {
   "cell_type": "code",
   "execution_count": null,
   "metadata": {},
   "outputs": [],
   "source": [
    "conf_mat=confusion_matrix(y_test,predictions)\n",
    "plt.figure()\n",
    "plot_confusion_matrix(conf_mat,classes=['healthy','diabetes'],normalize=False,title='Confusion Matrix')\n",
    "plt.show()"
   ]
  },
  {
   "cell_type": "code",
   "execution_count": null,
   "metadata": {},
   "outputs": [],
   "source": [
    "df2 = pd.read_csv(\"HMEQClean2.csv\")"
   ]
  },
  {
   "cell_type": "code",
   "execution_count": null,
   "metadata": {},
   "outputs": [],
   "source": [
    "df2.head()"
   ]
  },
  {
   "cell_type": "code",
   "execution_count": null,
   "metadata": {},
   "outputs": [],
   "source": [
    "x1 = y_test\n",
    "x2 = predictions\n",
    "\n",
    "# sizey = []\n",
    "# for i in range(1344):\n",
    "#     sizey.append(i)\n",
    "\n",
    "# plt.plot(sizey, x1, label = \"line 1\")\n",
    "# plt.plot(sizey, x2, label = \"line 1\")\n",
    "# plt.legend()\n",
    "# plt.show()\n",
    "\n",
    "x1.value_counts().plot.bar(title='BAD')\n"
   ]
  },
  {
   "cell_type": "code",
   "execution_count": null,
   "metadata": {},
   "outputs": [],
   "source": [
    "countN1 = 0\n",
    "countN2 = 0\n",
    "\n",
    "for i in predictions:\n",
    "    if (i==0):countN1+=1\n",
    "    else:countN2+=1\n",
    "\n",
    "width = 0.125\n",
    "# Plot the lengths in x positions [1, 2]\n",
    "plt.bar([0, 1], [countN1, countN2], width, color=\"blue\")\n",
    "fig = plt.gcf()\n",
    "plt.show()"
   ]
  },
  {
   "cell_type": "code",
   "execution_count": null,
   "metadata": {},
   "outputs": [],
   "source": [
    "countN1 = 0\n",
    "countN2 = 0\n",
    "\n",
    "for i in y_test:\n",
    "    if (i==0):countN1+=1\n",
    "    else:countN2+=1\n",
    "\n",
    "width = 0.125\n",
    "# Plot the lengths in x positions [1, 2]\n",
    "plt.bar([0, 1], [countN1, countN2], width, color=\"blue\")\n",
    "fig = plt.gcf()\n",
    "plt.show()"
   ]
  },
  {
   "cell_type": "code",
   "execution_count": 27,
   "metadata": {},
   "outputs": [],
   "source": []
  },
  {
   "cell_type": "code",
   "execution_count": 30,
   "metadata": {},
   "outputs": [
    {
     "name": "stdout",
     "output_type": "stream",
     "text": [
      "Wall time: 0 ns\n"
     ]
    }
   ],
   "source": [
    "%%time\n",
    "from sklearn.model_selection import StratifiedKFold\n",
    "\n",
    "# split into input (X) and output (Y) variables\n",
    "X = dataset[:,1:13]\n",
    "Y = dataset[:,0]\n",
    "\n",
    "kfold = StratifiedKFold(n_splits=10, shuffle=True, random_state=seed)\n"
   ]
  },
  {
   "cell_type": "code",
   "execution_count": 21,
   "metadata": {},
   "outputs": [
    {
     "name": "stdout",
     "output_type": "stream",
     "text": [
      "Wall time: 0 ns\n"
     ]
    },
    {
     "data": {
      "text/plain": [
       "array([1, 0, 1, ..., 0, 0, 0], dtype=object)"
      ]
     },
     "execution_count": 21,
     "metadata": {},
     "output_type": "execute_result"
    }
   ],
   "source": []
  },
  {
   "cell_type": "code",
   "execution_count": 32,
   "metadata": {},
   "outputs": [
    {
     "name": "stdout",
     "output_type": "stream",
     "text": [
      "accuracy: 90.77%\n",
      "accuracy: 89.88%\n",
      "accuracy: 89.88%\n",
      "accuracy: 90.48%\n",
      "accuracy: 91.07%\n",
      "accuracy: 91.67%\n",
      "accuracy: 90.18%\n",
      "accuracy: 90.48%\n",
      "accuracy: 91.67%\n",
      "accuracy: 91.37%\n",
      "Wall time: 7min 21s\n"
     ]
    }
   ],
   "source": [
    "%%time\n",
    "\n",
    "predictions2 = []\n",
    "cvscores = []\n",
    "history2 = []\n",
    "\n",
    "X2 = X.astype(float) \n",
    "Y2 = Y.astype(float) \n",
    "\n",
    "for train, test in kfold.split(X2, Y2):\n",
    "    # create model\n",
    "    model = Sequential()\n",
    "    model.add(Dense(16, input_dim=12, activation='relu'))\n",
    "    model.add(Dense(12, activation='relu'))\n",
    "    model.add(Dense(1, activation='sigmoid'))\n",
    "    \n",
    "    # Compile model\n",
    "    model.compile(loss='binary_crossentropy', optimizer='adam', metrics=['accuracy'])\n",
    "    \n",
    "    # Fit the model\n",
    "    history2.append(model.fit(X2[train], Y2[train], epochs=150, batch_size=10, verbose=0))\n",
    "    \n",
    "    #Predict\n",
    "    predictions2.append(model.predict_classes(X2[test]))\n",
    "    \n",
    "    # evaluate the model\n",
    "    scores = model.evaluate(X2[test], Y2[test], verbose=0)\n",
    "    print(\"%s: %.2f%%\" % (model.metrics_names[1], scores[1]*100))\n",
    "    cvscores.append(scores[1] * 100)\n"
   ]
  },
  {
   "cell_type": "code",
   "execution_count": 34,
   "metadata": {},
   "outputs": [
    {
     "data": {
      "text/plain": [
       "[90.77380895614624,\n",
       " 89.8809552192688,\n",
       " 89.8809552192688,\n",
       " 90.47619104385376,\n",
       " 91.07142686843872,\n",
       " 91.66666865348816,\n",
       " 90.17857313156128,\n",
       " 90.47619104385376,\n",
       " 91.66666865348816,\n",
       " 91.3690447807312]"
      ]
     },
     "execution_count": 34,
     "metadata": {},
     "output_type": "execute_result"
    }
   ],
   "source": [
    "cvscores"
   ]
  },
  {
   "cell_type": "code",
   "execution_count": 35,
   "metadata": {},
   "outputs": [
    {
     "name": "stdout",
     "output_type": "stream",
     "text": [
      "90.74% (+/- 0.64%)\n"
     ]
    }
   ],
   "source": [
    "print(\"%.2f%% (+/- %.2f%%)\" % (np.mean(cvscores), np.std(cvscores)))"
   ]
  },
  {
   "cell_type": "code",
   "execution_count": 41,
   "metadata": {},
   "outputs": [
    {
     "data": {
      "text/plain": [
       "array([[0],\n",
       "       [0],\n",
       "       [0],\n",
       "       [0],\n",
       "       [0],\n",
       "       [0],\n",
       "       [0],\n",
       "       [0],\n",
       "       [0],\n",
       "       [0],\n",
       "       [0],\n",
       "       [0],\n",
       "       [0],\n",
       "       [0],\n",
       "       [0],\n",
       "       [0],\n",
       "       [0],\n",
       "       [0],\n",
       "       [0],\n",
       "       [0],\n",
       "       [0],\n",
       "       [0],\n",
       "       [0],\n",
       "       [0],\n",
       "       [0],\n",
       "       [0],\n",
       "       [0],\n",
       "       [0],\n",
       "       [0],\n",
       "       [0],\n",
       "       [0],\n",
       "       [0],\n",
       "       [0],\n",
       "       [0],\n",
       "       [0],\n",
       "       [0],\n",
       "       [0],\n",
       "       [0],\n",
       "       [0],\n",
       "       [0],\n",
       "       [0],\n",
       "       [0],\n",
       "       [0],\n",
       "       [0],\n",
       "       [0],\n",
       "       [0],\n",
       "       [0],\n",
       "       [0],\n",
       "       [0],\n",
       "       [0],\n",
       "       [0],\n",
       "       [0],\n",
       "       [0],\n",
       "       [0],\n",
       "       [0],\n",
       "       [0],\n",
       "       [0],\n",
       "       [0],\n",
       "       [0],\n",
       "       [0],\n",
       "       [0],\n",
       "       [0],\n",
       "       [0],\n",
       "       [0],\n",
       "       [0],\n",
       "       [0],\n",
       "       [0],\n",
       "       [0],\n",
       "       [0],\n",
       "       [0],\n",
       "       [0],\n",
       "       [0],\n",
       "       [0],\n",
       "       [0],\n",
       "       [0],\n",
       "       [0],\n",
       "       [0],\n",
       "       [0],\n",
       "       [0],\n",
       "       [0],\n",
       "       [0],\n",
       "       [0],\n",
       "       [0],\n",
       "       [0],\n",
       "       [0],\n",
       "       [0],\n",
       "       [0],\n",
       "       [0],\n",
       "       [0],\n",
       "       [0],\n",
       "       [0],\n",
       "       [0],\n",
       "       [0],\n",
       "       [0],\n",
       "       [0],\n",
       "       [0],\n",
       "       [0],\n",
       "       [0],\n",
       "       [0],\n",
       "       [0],\n",
       "       [0],\n",
       "       [0],\n",
       "       [0],\n",
       "       [0],\n",
       "       [0],\n",
       "       [0],\n",
       "       [0],\n",
       "       [0],\n",
       "       [0],\n",
       "       [0],\n",
       "       [0],\n",
       "       [0],\n",
       "       [0],\n",
       "       [0],\n",
       "       [0],\n",
       "       [0],\n",
       "       [0],\n",
       "       [0],\n",
       "       [0],\n",
       "       [0],\n",
       "       [0],\n",
       "       [0],\n",
       "       [0],\n",
       "       [0],\n",
       "       [0],\n",
       "       [0],\n",
       "       [0],\n",
       "       [0],\n",
       "       [0],\n",
       "       [0],\n",
       "       [0],\n",
       "       [0],\n",
       "       [0],\n",
       "       [0],\n",
       "       [0],\n",
       "       [0],\n",
       "       [0],\n",
       "       [0],\n",
       "       [0],\n",
       "       [0],\n",
       "       [0],\n",
       "       [0],\n",
       "       [0],\n",
       "       [0],\n",
       "       [0],\n",
       "       [0],\n",
       "       [0],\n",
       "       [0],\n",
       "       [0],\n",
       "       [0],\n",
       "       [0],\n",
       "       [0],\n",
       "       [0],\n",
       "       [0],\n",
       "       [0],\n",
       "       [0],\n",
       "       [0],\n",
       "       [0],\n",
       "       [0],\n",
       "       [0],\n",
       "       [0],\n",
       "       [0],\n",
       "       [0],\n",
       "       [0],\n",
       "       [0],\n",
       "       [0],\n",
       "       [0],\n",
       "       [0],\n",
       "       [0],\n",
       "       [0],\n",
       "       [0],\n",
       "       [0],\n",
       "       [0],\n",
       "       [0],\n",
       "       [0],\n",
       "       [0],\n",
       "       [0],\n",
       "       [0],\n",
       "       [0],\n",
       "       [0],\n",
       "       [0],\n",
       "       [0],\n",
       "       [0],\n",
       "       [0],\n",
       "       [0],\n",
       "       [0],\n",
       "       [0],\n",
       "       [0],\n",
       "       [0],\n",
       "       [0],\n",
       "       [0],\n",
       "       [0],\n",
       "       [0],\n",
       "       [0],\n",
       "       [0],\n",
       "       [0],\n",
       "       [0],\n",
       "       [0],\n",
       "       [0],\n",
       "       [0],\n",
       "       [0],\n",
       "       [0],\n",
       "       [0],\n",
       "       [0],\n",
       "       [0],\n",
       "       [0],\n",
       "       [0],\n",
       "       [0],\n",
       "       [0],\n",
       "       [0],\n",
       "       [0],\n",
       "       [0],\n",
       "       [0],\n",
       "       [0],\n",
       "       [0],\n",
       "       [0],\n",
       "       [0],\n",
       "       [0],\n",
       "       [0],\n",
       "       [0],\n",
       "       [0],\n",
       "       [0],\n",
       "       [0],\n",
       "       [0],\n",
       "       [0],\n",
       "       [0],\n",
       "       [0],\n",
       "       [0],\n",
       "       [0],\n",
       "       [0],\n",
       "       [0],\n",
       "       [0],\n",
       "       [0],\n",
       "       [0],\n",
       "       [0],\n",
       "       [0],\n",
       "       [0],\n",
       "       [0],\n",
       "       [0],\n",
       "       [0],\n",
       "       [0],\n",
       "       [0],\n",
       "       [0],\n",
       "       [0],\n",
       "       [0],\n",
       "       [0],\n",
       "       [0],\n",
       "       [0],\n",
       "       [0],\n",
       "       [0],\n",
       "       [0],\n",
       "       [0],\n",
       "       [0],\n",
       "       [0],\n",
       "       [0],\n",
       "       [0],\n",
       "       [0],\n",
       "       [0],\n",
       "       [0],\n",
       "       [0],\n",
       "       [0],\n",
       "       [0],\n",
       "       [0],\n",
       "       [0],\n",
       "       [0],\n",
       "       [0],\n",
       "       [0],\n",
       "       [0],\n",
       "       [0],\n",
       "       [0],\n",
       "       [0],\n",
       "       [0],\n",
       "       [0],\n",
       "       [0],\n",
       "       [0],\n",
       "       [0],\n",
       "       [0],\n",
       "       [0],\n",
       "       [0],\n",
       "       [0],\n",
       "       [0],\n",
       "       [0],\n",
       "       [0],\n",
       "       [0],\n",
       "       [0],\n",
       "       [0],\n",
       "       [0],\n",
       "       [0],\n",
       "       [0],\n",
       "       [0],\n",
       "       [0],\n",
       "       [0],\n",
       "       [0],\n",
       "       [0],\n",
       "       [0],\n",
       "       [0],\n",
       "       [0],\n",
       "       [0],\n",
       "       [0],\n",
       "       [0],\n",
       "       [0],\n",
       "       [0],\n",
       "       [0],\n",
       "       [0],\n",
       "       [0],\n",
       "       [0],\n",
       "       [0],\n",
       "       [0],\n",
       "       [0],\n",
       "       [0],\n",
       "       [0],\n",
       "       [0],\n",
       "       [0],\n",
       "       [0],\n",
       "       [0],\n",
       "       [0],\n",
       "       [0],\n",
       "       [0],\n",
       "       [0],\n",
       "       [0],\n",
       "       [0],\n",
       "       [0],\n",
       "       [0],\n",
       "       [0],\n",
       "       [0],\n",
       "       [0],\n",
       "       [0],\n",
       "       [0],\n",
       "       [0],\n",
       "       [0],\n",
       "       [0],\n",
       "       [0],\n",
       "       [0],\n",
       "       [0],\n",
       "       [0],\n",
       "       [0]])"
      ]
     },
     "execution_count": 41,
     "metadata": {},
     "output_type": "execute_result"
    }
   ],
   "source": [
    "predictions2[9]"
   ]
  },
  {
   "cell_type": "code",
   "execution_count": 61,
   "metadata": {},
   "outputs": [
    {
     "data": {
      "image/png": "[encoded data removed]",
      "text/plain": [
       "<Figure size 432x288 with 1 Axes>"
      ]
     },
     "metadata": {
      "needs_background": "light"
     },
     "output_type": "display_data"
    }
   ],
   "source": [
    "import matplotlib.pyplot as plt\n",
    "\n",
    "# summarize history for accuracy\n",
    "plt.plot(history2[9].history['accuracy'])\n",
    "plt.title('model accuracy')\n",
    "plt.ylabel('accuracy')\n",
    "plt.legend(['train', 'test'], loc='upper left')\n",
    "plt.show()"
   ]
  },
  {
   "cell_type": "code",
   "execution_count": 54,
   "metadata": {},
   "outputs": [
    {
     "data": {
      "text/plain": [
       "dict_keys(['loss', 'accuracy'])"
      ]
     },
     "execution_count": 54,
     "metadata": {},
     "output_type": "execute_result"
    }
   ],
   "source": [
    "history2[0].history.keys()"
   ]
  },
  {
   "cell_type": "code",
   "execution_count": 64,
   "metadata": {},
   "outputs": [
    {
     "data": {
      "image/png": "[encoded data removed]",
      "text/plain": [
       "<Figure size 432x288 with 1 Axes>"
      ]
     },
     "metadata": {
      "needs_background": "light"
     },
     "output_type": "display_data"
    }
   ],
   "source": [
    "import matplotlib.pyplot as plt\n",
    "\n",
    "# summarize history for accuracy\n",
    "plt.plot(history2[9].history['accuracy'])\n",
    "plt.title('model loss')\n",
    "plt.ylabel('loss')\n",
    "plt.legend(['train', 'test'], loc='upper left')\n",
    "plt.show()"
   ]
  },
  {
   "cell_type": "code",
   "execution_count": 68,
   "metadata": {},
   "outputs": [
    {
     "data": {
      "image/png": "[encoded data removed]",
      "text/plain": [
       "<Figure size 432x288 with 1 Axes>"
      ]
     },
     "metadata": {
      "needs_background": "light"
     },
     "output_type": "display_data"
    }
   ],
   "source": [
    "\n",
    "plt.plot(predictions2[0])\n",
    "plt.title('Prediction Batch 0')\n",
    "plt.ylabel('value')\n",
    "plt.legend(['test', 'test'], loc='upper left')\n",
    "plt.show()"
   ]
  },
  {
   "cell_type": "code",
   "execution_count": 72,
   "metadata": {},
   "outputs": [
    {
     "data": {
      "image/png": "[encoded data removed]",
      "text/plain": [
       "<Figure size 432x288 with 1 Axes>"
      ]
     },
     "metadata": {
      "needs_background": "light"
     },
     "output_type": "display_data"
    }
   ],
   "source": [
    "# summarize history for accuracy\n",
    "plt.plot(predictions2[9])\n",
    "plt.title('Prediction Batch 9')\n",
    "plt.ylabel('loss')\n",
    "plt.legend(['train', 'test'], loc='upper left')\n",
    "plt.show()"
   ]
  },
  {
   "cell_type": "code",
   "execution_count": 80,
   "metadata": {},
   "outputs": [
    {
     "data": {
      "image/png": "[encoded data removed]",
      "text/plain": [
       "<Figure size 432x288 with 1 Axes>"
      ]
     },
     "metadata": {
      "needs_background": "light"
     },
     "output_type": "display_data"
    }
   ],
   "source": [
    "# summarize history for accuracy\n",
    "plt.plot(Y2)\n",
    "plt.title('Prediction Batch 9')\n",
    "plt.ylabel('value')\n",
    "plt.legend(['train', 'test'], loc='upper left')\n",
    "plt.show()"
   ]
  },
  {
   "cell_type": "code",
   "execution_count": 78,
   "metadata": {},
   "outputs": [
    {
     "data": {
      "text/plain": [
       "array([1., 0., 1., ..., 0., 0., 0.])"
      ]
     },
     "execution_count": 78,
     "metadata": {},
     "output_type": "execute_result"
    }
   ],
   "source": [
    "Y2"
   ]
  },
  {
   "cell_type": "code",
   "execution_count": null,
   "metadata": {},
   "outputs": [],
   "source": []
  }
 ],
 "metadata": {
  "kernelspec": {
   "display_name": "pdib",
   "language": "python",
   "name": "pdib"
  },
  "language_info": {
   "codemirror_mode": {
    "name": "ipython",
    "version": 3
   },
   "file_extension": ".py",
   "mimetype": "text/x-python",
   "name": "python",
   "nbconvert_exporter": "python",
   "pygments_lexer": "ipython3",
   "version": "3.7.7"
  }
 },
 "nbformat": 4,
 "nbformat_minor": 2
}
